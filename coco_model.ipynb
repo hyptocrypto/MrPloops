{
 "cells": [
  {
   "cell_type": "code",
   "execution_count": 1,
   "id": "5046159e-5714-4a6b-b203-df3eb4185852",
   "metadata": {},
   "outputs": [],
   "source": [
    "\n",
    "from fastai.vision.all import *\n",
    "path = untar_data(URLs.COCO_TINY)\n",
    "imgs, lbl_bbox = get_annotations(path/'train.json')\n",
    "img2bbox = dict(zip(imgs, lbl_bbox))\n",
    "getters = [lambda o: path/'train'/o, lambda o: img2bbox[o][0], lambda o: img2bbox[o][1]]\n",
    "item_tfms = [Resize(128, method='pad'),]\n",
    "batch_tfms = [Rotate(), Flip(), Dihedral(), Normalize.from_stats(*imagenet_stats)]\n",
    "def get_train_imgs(noop):  return imgs"
   ]
  },
  {
   "cell_type": "code",
   "execution_count": null,
   "id": "e97a6cf4-f329-413c-8e7f-030969378705",
   "metadata": {},
   "outputs": [
    {
     "name": "stderr",
     "output_type": "stream",
     "text": [
      "/Users/julianbaumgartner/Dev/MrPloops/venv/lib/python3.10/site-packages/fastai/data/transforms.py:225: FutureWarning: is_categorical_dtype is deprecated and will be removed in a future version. Use isinstance(dtype, CategoricalDtype) instead\n",
      "  if is_categorical_dtype(col):\n",
      "/Users/julianbaumgartner/Dev/MrPloops/venv/lib/python3.10/site-packages/torch/_tensor.py:1295: UserWarning: torch.linalg_inv_ex.inverse is supported by MPS on MacOS 13+, please upgrade. Falling back to CPU. (Triggered internally at /Users/runner/work/pytorch/pytorch/pytorch/aten/src/ATen/native/mps/operations/Inverse.mm:14.)\n",
      "  ret = func(*args, **kwargs)\n"
     ]
    }
   ],
   "source": [
    "coco_data_loader = DataBlock(blocks=(ImageBlock, BBoxBlock, BBoxLblBlock),\n",
    "                 splitter=RandomSplitter(),\n",
    "                 get_items=get_train_imgs,\n",
    "                 getters=getters,\n",
    "                 item_tfms=item_tfms,\n",
    "                 batch_tfms=batch_tfms,\n",
    "                 n_inp=1).dataloaders(path/'train')"
   ]
  },
  {
   "cell_type": "code",
   "execution_count": null,
   "id": "1d4928ac-9d7a-4597-856f-b1e2bfaea6fe",
   "metadata": {},
   "outputs": [],
   "source": []
  }
 ],
 "metadata": {
  "kernelspec": {
   "display_name": "Python 3 (ipykernel)",
   "language": "python",
   "name": "python3"
  },
  "language_info": {
   "codemirror_mode": {
    "name": "ipython",
    "version": 3
   },
   "file_extension": ".py",
   "mimetype": "text/x-python",
   "name": "python",
   "nbconvert_exporter": "python",
   "pygments_lexer": "ipython3",
   "version": "3.10.13"
  }
 },
 "nbformat": 4,
 "nbformat_minor": 5
}
